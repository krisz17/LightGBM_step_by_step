{
 "cells": [
  {
   "cell_type": "markdown",
   "id": "adf07877-2bd0-4f63-bdc4-7ca59b312b7b",
   "metadata": {},
   "source": [
    "Dane pobrane ze strony https://www.kaggle.com/c/tabular-playground-series-mar-2021/data\n",
    "Ponieważ jak się okazuje algorytm lgbm dość dobrze sobie radzi z cechami kategorialnymi oraz  z brakami danych, nie wykonam pierwszego kroku czyli EDA"
   ]
  },
  {
   "cell_type": "code",
   "execution_count": 1,
   "id": "6892ac38-c1e9-461b-ba3f-c43a76fd2097",
   "metadata": {},
   "outputs": [],
   "source": [
    "import lightgbm as lgb\n",
    "import pandas as pd\n",
    "import numpy as np\n",
    "import os\n",
    "\n",
    "data_path = \"E:\\page_ds\\LightGBM_step_by_step\"\n",
    "pict_path = os.path.join(data_path, r\"foto\")\n",
    "\n",
    "MainData = pd.read_csv(os.path.join(data_path, \"train.csv\"))\n",
    "\n",
    "#podział na cechy oraz zmienną celu\n",
    "y = MainData['target'].copy()\n",
    "X = MainData.drop(columns=['id','target']).copy()\n",
    "\n",
    "#lista cech kategorialnych\n",
    "X_cat_col = list(X.loc[:,X.dtypes!=np.number].columns)\n"
   ]
  }
 ],
 "metadata": {
  "kernelspec": {
   "display_name": "Python 3 (ipykernel)",
   "language": "python",
   "name": "python3"
  },
  "language_info": {
   "codemirror_mode": {
    "name": "ipython",
    "version": 3
   },
   "file_extension": ".py",
   "mimetype": "text/x-python",
   "name": "python",
   "nbconvert_exporter": "python",
   "pygments_lexer": "ipython3",
   "version": "3.9.7"
  }
 },
 "nbformat": 4,
 "nbformat_minor": 5
}
