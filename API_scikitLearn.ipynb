{
 "cells": [
  {
   "cell_type": "markdown",
   "id": "19df7438-f6da-4da4-9524-d2dc18eece8e",
   "metadata": {},
   "source": [
    "Tutaj pokazałem przykład z wykorzystaniem API kompaktybilnego z scikit-learn"
   ]
  },
  {
   "cell_type": "code",
   "execution_count": 3,
   "id": "2b2b1356-52a2-4b36-a174-59775f1e85c3",
   "metadata": {},
   "outputs": [],
   "source": [
    "# inicjacja bibliotek oraz przestrzeni nazw\n",
    "import pandas as pd\n",
    "import numpy as np\n",
    "import os\n",
    "\n",
    "data_path = \"E:\\page_ds\\LightGBM_step_by_step\"\n",
    "pict_path = os.path.join(data_path, r\"foto\")\n",
    "\n",
    "MainData = pd.read_csv(os.path.join(data_path, \"train.csv\"))\n",
    "\n",
    "#podział na cechy oraz zmienną celu\n",
    "y = MainData['target'].copy()\n",
    "X = MainData.drop(columns=['id','target']).copy()\n",
    "\n",
    "#lista cech kategorialnych\n",
    "X_cat_col = list(X.loc[:,X.dtypes!=np.number].columns)\n",
    "\n",
    "\n",
    "for c in X.columns:\n",
    "    col_type = X[c].dtype\n",
    "    if col_type == 'object' or col_type.name == 'category':\n",
    "        X[c] = X[c].astype('category')"
   ]
  },
  {
   "cell_type": "markdown",
   "id": "ba9ef720-d4a7-4cd6-98c2-fbf1bdf5afe1",
   "metadata": {},
   "source": [
    "Następnie inicjujemy przestrzeń parametrów i wrzucamy to do modelu. Tym razem nie dzielimy zbioru na część treningową i walidacyjną tylko korzystamy z całego dostępnego zestawu danych podzielonego krzyżowo  na 5 podzbiorów"
   ]
  },
  {
   "cell_type": "code",
   "execution_count": 1,
   "id": "c15bf48a-a559-4709-a181-fde88daae3ba",
   "metadata": {},
   "outputs": [],
   "source": [
    "from optuna.integration import LightGBMPruningCallback\n",
    "import optuna\n",
    "import matplotlib.pyplot as plt\n",
    "import lightgbm as lgb\n",
    "from sklearn.metrics import accuracy_score # dane są nisko niezbalansowane przez co powinniśmy rozpatrzyć losowanie warstwowe\n",
    "from sklearn.metrics import plot_roc_curve\n",
    "from sklearn.metrics import plot_confusion_matrix\n",
    "from sklearn.model_selection import train_test_split\n",
    "from sklearn.metrics import auc\n",
    "from sklearn.metrics import log_loss\n",
    "from sklearn.model_selection import StratifiedKFold\n",
    "\n",
    "def objective(trial, X, y):\n",
    "    param_grid = {\n",
    "        # \"device_type\": trial.suggest_categorical(\"device_type\", ['gpu']),\n",
    "        \"n_estimators\": trial.suggest_categorical(\"n_estimators\", [1000]),\n",
    "        \"learning_rate\": trial.suggest_float(\"learning_rate\", 0.01, 0.3),\n",
    "        \"num_leaves\": trial.suggest_int(\"num_leaves\", 20, 3000, step=20),\n",
    "        \"max_depth\": trial.suggest_int(\"max_depth\", 3, 12),\n",
    "        \"min_data_in_leaf\": trial.suggest_int(\"min_data_in_leaf\", 200, 10000, step=100),\n",
    "        \"lambda_l1\": trial.suggest_int(\"lambda_l1\", 0, 100, step=5),\n",
    "        \"lambda_l2\": trial.suggest_int(\"lambda_l2\", 0, 100, step=5),\n",
    "        \"min_gain_to_split\": trial.suggest_float(\"min_gain_to_split\", 0, 15),\n",
    "        \"bagging_fraction\": trial.suggest_float(\n",
    "            \"bagging_fraction\", 0.2, 0.9, step=0.1\n",
    "        ),\n",
    "        \"bagging_freq\": trial.suggest_categorical(\"bagging_freq\", [1]),\n",
    "        \"feature_fraction\": trial.suggest_float(\n",
    "            \"feature_fraction\", 0.2, 0.9, step=0.1\n",
    "        ),\n",
    "    }\n",
    "\n",
    "    cv = StratifiedKFold(n_splits=5, shuffle=True, random_state=128262)\n",
    "\n",
    "    cv_scores = np.empty(5)\n",
    "    for idx, (train_idx, test_idx) in enumerate(cv.split(X, y)):\n",
    "        X_train, X_test = X.iloc[train_idx], X.iloc[test_idx]\n",
    "        y_train, y_test = y[train_idx], y[test_idx]\n",
    "\n",
    "        model = lgb.LGBMClassifier(objective=\"binary\", **param_grid)\n",
    "        model.fit(\n",
    "            X_train,\n",
    "            y_train,\n",
    "            eval_set=[(X_test, y_test)],\n",
    "            eval_metric=\"binary_logloss\",\n",
    "            early_stopping_rounds=100,\n",
    "            callbacks=[\n",
    "                LightGBMPruningCallback(trial, \"binary_logloss\")\n",
    "            ],  # Add a pruning callback\n",
    "        )\n",
    "        preds = model.predict_proba(X_test)\n",
    "        cv_scores[idx] = log_loss(y_test, preds)\n",
    "\n",
    "    return np.mean(cv_scores)"
   ]
  },
  {
   "cell_type": "markdown",
   "id": "c50a60e8-9181-47ae-8ab2-6f79da3a4ac1",
   "metadata": {},
   "source": [
    "i trenujemy, dla przyśpieszenia 100 rundek"
   ]
  },
  {
   "cell_type": "code",
   "execution_count": null,
   "id": "ab0921f5-cd8a-4ca3-8e41-52c86dd5fdb9",
   "metadata": {},
   "outputs": [],
   "source": [
    "study = optuna.create_study(direction=\"minimize\", study_name=\"LGBM Classifier\")\n",
    "func = lambda trial: objective(trial, X, y)\n",
    "study.optimize(func, n_trials=100)"
   ]
  },
  {
   "cell_type": "code",
   "execution_count": 5,
   "id": "0e6d4ca3-9f48-42cd-a411-64798021ef75",
   "metadata": {},
   "outputs": [
    {
     "name": "stdout",
     "output_type": "stream",
     "text": [
      "Best params:\n",
      "\tn_estimators: 1000\n",
      "\tlearning_rate: 0.21349560425607134\n",
      "\tnum_leaves: 1380\n",
      "\tmax_depth: 4\n",
      "\tmin_data_in_leaf: 2800\n",
      "\tlambda_l1: 45\n",
      "\tlambda_l2: 75\n",
      "\tmin_gain_to_split: 0.9290119245426975\n",
      "\tbagging_fraction: 0.8\n",
      "\tbagging_freq: 1\n",
      "\tfeature_fraction: 0.9\n"
     ]
    }
   ],
   "source": [
    "print(\"Best params:\")\n",
    "for key, value in study.best_params.items():\n",
    "    print(f\"\\t{key}: {value}\")"
   ]
  },
  {
   "cell_type": "code",
   "execution_count": 6,
   "id": "287b5921-7fe7-496e-a182-d4b9bead54e8",
   "metadata": {},
   "outputs": [
    {
     "name": "stdout",
     "output_type": "stream",
     "text": [
      "[LightGBM] [Warning] feature_fraction is set=0.9, colsample_bytree=1.0 will be ignored. Current value: feature_fraction=0.9\n",
      "[LightGBM] [Warning] min_data_in_leaf is set=2800, min_child_samples=20 will be ignored. Current value: min_data_in_leaf=2800\n",
      "[LightGBM] [Warning] min_gain_to_split is set=0.9290119245426975, min_split_gain=0.0 will be ignored. Current value: min_gain_to_split=0.9290119245426975\n",
      "[LightGBM] [Warning] bagging_fraction is set=0.8, subsample=1.0 will be ignored. Current value: bagging_fraction=0.8\n",
      "Accuracy for validation set: 0.8488\n",
      "Accuracy for train set: 0.8545\n",
      "Wartość parametru Gini na zbiorze walidacyjnym to: 0.7839\n",
      "Wartość parametru Gini na zbiorze treningowym to: 0.7994\n",
      "\n",
      "ROC Curve\n",
      "<sklearn.metrics._plot.roc_curve.RocCurveDisplay object at 0x00000242856BF310>\n",
      "\n",
      "Confusion Matrix\n",
      "<sklearn.metrics._plot.confusion_matrix.ConfusionMatrixDisplay object at 0x00000242856937C0>\n"
     ]
    },
    {
     "data": {
      "image/png": "[encoded data removed]",
      "text/plain": [
       "<Figure size 432x288 with 1 Axes>"
      ]
     },
     "metadata": {
      "needs_background": "light"
     },
     "output_type": "display_data"
    },
    {
     "data": {
      "image/png": "[encoded data removed]",
      "text/plain": [
       "<Figure size 432x288 with 2 Axes>"
      ]
     },
     "metadata": {
      "needs_background": "light"
     },
     "output_type": "display_data"
    }
   ],
   "source": [
    "import matplotlib.pyplot as plt\n",
    "import lightgbm as lgb\n",
    "# dane są nisko niezbalansowane przez co powinniśmy rozpatrzyć losowanie warstwowe\n",
    "from sklearn.metrics import accuracy_score\n",
    "from sklearn.metrics import RocCurveDisplay\n",
    "from sklearn.metrics import confusion_matrix, ConfusionMatrixDisplay\n",
    "from sklearn.model_selection import train_test_split\n",
    "from sklearn.metrics import auc\n",
    "from sklearn.metrics import roc_auc_score\n",
    "\n",
    "X_train, X_test, y_train, y_test = train_test_split(X, y, test_size = 0.2, shuffle=True, random_state=128262)\n",
    "\n",
    "# inicjalizujemy model na wymyślonych przeze mnie parametrach (PO BOŻEMU: tu powinny być parametry z Optuny!!!)\n",
    "lgb_clf = lgb.LGBMClassifier(learning_rate=0.21349560425607134,\n",
    "                             num_leaves=1380,\n",
    "                             max_depth=4,\n",
    "                             n_estimators=1000,\n",
    "                             objective='binary',\n",
    "                             min_data_in_leaf = 2800,\n",
    "                             reg_alpha = 45,  #L1\n",
    "                             reg_lambda = 75,  #L2\n",
    "                             min_gain_to_split = 0.9290119245426975,\n",
    "                             boosting_type ='gbdt',\n",
    "                             bagging_fraction = 0.8,\n",
    "                           #  bagging_freq = 1,\n",
    "                             feature_fraction = 0.9,\n",
    "                             #n_jobs=-1,\n",
    "                             random_state=128262)\n",
    "\n",
    "# uczymy model, korzystamy z API sklearn\n",
    "lgb_clf.fit(X_train, y_train)\n",
    "\n",
    "# przeliczamy skoringi na zbiorze testowym aby sprawdzić jakość modelu w rozumieniu interesujących mnie miar\n",
    "y_hat = lgb_clf.predict(X_test)\n",
    "\n",
    "auc_val = roc_auc_score(y_test, lgb_clf.predict_proba(X_test)[:, 1])\n",
    "auc_train = roc_auc_score(y_train, lgb_clf.predict_proba(X_train)[:, 1])\n",
    "\n",
    "print(\"Accuracy for validation set: {0:.4f}\".format(accuracy_score(y_test, y_hat)))\n",
    "print(\"Accuracy for train set: {0:.4f}\".format(accuracy_score(y_train, lgb_clf.predict(X_train))))\n",
    "\n",
    "print(\"Wartość parametru Gini na zbiorze walidacyjnym to: {0:.4f}\".format(2*auc_val-1)) # Gini = 2*AUC-1\n",
    "print(\"Wartość parametru Gini na zbiorze treningowym to: {0:.4f}\".format(2*auc_train-1)) # Gini = 2*AUC-1\n",
    "\n",
    "print(\"\\nROC Curve\")\n",
    "print(RocCurveDisplay.from_estimator(lgb_clf, X_test, y_test))\n",
    "#RocCurveDisplay.from_estimator(lgb_clf, X_test, y_test)\n",
    "#plt.savefig(os.path.join(pict_path, \"3_ROC_cur_clf_scikit.png\"), format=\"png\" , dpi=300, facecolor=\"White\")\n",
    "\n",
    "print(\"\\nConfusion Matrix\")\n",
    "#print(plot_confusion_matrix(xgb_clf, X_test, y_test))\n",
    "cm = confusion_matrix(y_test, y_hat, labels=lgb_clf.classes_)\n",
    "disp = ConfusionMatrixDisplay(confusion_matrix=cm,\n",
    "                              display_labels=lgb_clf.classes_)\n",
    "print(disp.plot())\n",
    "#wyk = disp.plot()\n",
    "#plt.savefig(os.path.join(pict_path,\"4_conf_matrix_clf_scikit.png\"), format=\"png\" , dpi=300, facecolor=\"White\")\n",
    "plt.show()"
   ]
  },
  {
   "cell_type": "code",
   "execution_count": 8,
   "id": "60b333b4-cd22-4326-9321-2a6e5a078c7d",
   "metadata": {},
   "outputs": [
    {
     "data": {
      "image/png": "[encoded data removed]",
      "text/plain": [
       "<Figure size 432x288 with 2 Axes>"
      ]
     },
     "metadata": {
      "needs_background": "light"
     },
     "output_type": "display_data"
    }
   ],
   "source": [
    "wyk = disp.plot()\n",
    "plt.savefig(os.path.join(pict_path,\"4_conf_matrix_clf_scikit.png\"), format=\"png\" , dpi=300, facecolor=\"White\")"
   ]
  }
 ],
 "metadata": {
  "kernelspec": {
   "display_name": "Python 3 (ipykernel)",
   "language": "python",
   "name": "python3"
  },
  "language_info": {
   "codemirror_mode": {
    "name": "ipython",
    "version": 3
   },
   "file_extension": ".py",
   "mimetype": "text/x-python",
   "name": "python",
   "nbconvert_exporter": "python",
   "pygments_lexer": "ipython3",
   "version": "3.9.7"
  }
 },
 "nbformat": 4,
 "nbformat_minor": 5
}
